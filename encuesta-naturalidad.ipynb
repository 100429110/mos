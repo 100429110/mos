{
 "cells": [
  {
   "cell_type": "markdown",
   "metadata": {},
   "source": [
    "# Naturalidad"
   ]
  },
  {
   "cell_type": "markdown",
   "metadata": {},
   "source": [
    "MOS (encuesta de naturalidad): esta encuesta es para clasificar cómo de naturales suenan los ejemplos\n",
    " - Para cada método (3 métodos) cada participante escucha 20 ejemplos de cada emoción (3 emociones)\n",
    " - Para cada una de las frases que escucha asigna un valor de naturalidad: 1- 5\n"
   ]
  },
  {
   "cell_type": "markdown",
   "metadata": {},
   "source": [
    "## N - A"
   ]
  },
  {
   "cell_type": "markdown",
   "metadata": {},
   "source": [
    "### 0011_000021.wav"
   ]
  },
  {
   "cell_type": "markdown",
   "metadata": {},
   "source": [
    "<audio controls src=\"datos_test/ejemplos_transformados/baseline/baseline_neutral_angry_500epochs/0011_000021.wav\" title=\"Title\"></audio>\n",
    "<audio controls src=\"datos_test/ejemplos_transformados/propuesta_1/propuesta_1_neutral_angry_500epochs/0011_000021.wav\" title=\"Title\"></audio>\n",
    "<audio controls src=\"datos_test/ejemplos_transformados/propuesta_2/propuesta_2_neutral_angry_500epochs/0011_000021.wav\" title=\"\"></audio>"
   ]
  },
  {
   "cell_type": "markdown",
   "metadata": {},
   "source": [
    "### 0011_000022.wav"
   ]
  },
  {
   "cell_type": "markdown",
   "metadata": {},
   "source": [
    "<audio controls src=\"datos_test/ejemplos_transformados/baseline/baseline_neutral_angry_500epochs/0011_000022.wav\" title=\"Title\"></audio>\n",
    "<audio controls src=\"datos_test/ejemplos_transformados/propuesta_1/propuesta_1_neutral_angry_500epochs/0011_000022.wav\" title=\"Title\"></audio>\n",
    "<audio controls src=\"datos_test/ejemplos_transformados/propuesta_2/propuesta_2_neutral_angry_500epochs/0011_000022.wav\" title=\"\"></audio>"
   ]
  },
  {
   "cell_type": "markdown",
   "metadata": {},
   "source": [
    "### 0011_000023.wav"
   ]
  },
  {
   "cell_type": "markdown",
   "metadata": {},
   "source": [
    "<audio controls src=\"datos_test/ejemplos_transformados/baseline/baseline_neutral_angry_500epochs/0011_000023.wav\" title=\"Title\"></audio>\n",
    "<audio controls src=\"datos_test/ejemplos_transformados/propuesta_1/propuesta_1_neutral_angry_500epochs/0011_000023.wav\" title=\"Title\"></audio>\n",
    "<audio controls src=\"datos_test/ejemplos_transformados/propuesta_2/propuesta_2_neutral_angry_500epochs/0011_000023.wav\" title=\"\"></audio>"
   ]
  },
  {
   "cell_type": "markdown",
   "metadata": {},
   "source": [
    "### 0011_000025.wav"
   ]
  },
  {
   "cell_type": "markdown",
   "metadata": {},
   "source": [
    "<audio controls src=\"datos_test/ejemplos_transformados/baseline/baseline_neutral_angry_500epochs/0011_000025.wav\" title=\"Title\"></audio>\n",
    "<audio controls src=\"datos_test/ejemplos_transformados/propuesta_1/propuesta_1_neutral_angry_500epochs/0011_000025.wav\" title=\"Title\"></audio>\n",
    "<audio controls src=\"datos_test/ejemplos_transformados/propuesta_2/propuesta_2_neutral_angry_500epochs/0011_000025.wav\" title=\"\"></audio>"
   ]
  },
  {
   "cell_type": "markdown",
   "metadata": {},
   "source": [
    "### 0011_000028.wav"
   ]
  },
  {
   "cell_type": "markdown",
   "metadata": {},
   "source": [
    "<audio controls src=\"datos_test/ejemplos_transformados/baseline/baseline_neutral_angry_500epochs/0011_000028.wav\" title=\"Title\"></audio>\n",
    "<audio controls src=\"datos_test/ejemplos_transformados/propuesta_1/propuesta_1_neutral_angry_500epochs/0011_000028.wav\" title=\"Title\"></audio>\n",
    "<audio controls src=\"datos_test/ejemplos_transformados/propuesta_2/propuesta_2_neutral_angry_500epochs/0011_000028.wav\" title=\"\"></audio>"
   ]
  },
  {
   "cell_type": "markdown",
   "metadata": {},
   "source": [
    "### 0011_000029.wav"
   ]
  },
  {
   "cell_type": "markdown",
   "metadata": {},
   "source": [
    "<audio controls src=\"datos_test/ejemplos_transformados/baseline/baseline_neutral_angry_500epochs/0011_000029.wav\" title=\"Title\"></audio>\n",
    "<audio controls src=\"datos_test/ejemplos_transformados/propuesta_1/propuesta_1_neutral_angry_500epochs/0011_000029.wav\" title=\"Title\"></audio>\n",
    "<audio controls src=\"datos_test/ejemplos_transformados/propuesta_2/propuesta_2_neutral_angry_500epochs/0011_000029.wav\" title=\"\"></audio>"
   ]
  },
  {
   "cell_type": "markdown",
   "metadata": {},
   "source": [
    "### 0011_000031.wav\n",
    "<audio controls src=\"datos_test/ejemplos_transformados/baseline/baseline_neutral_angry_500epochs/0011_000031.wav\" title=\"Title\"></audio>\n",
    "<audio controls src=\"datos_test/ejemplos_transformados/propuesta_1/propuesta_1_neutral_angry_500epochs/0011_000031.wav\" title=\"Title\"></audio>\n",
    "<audio controls src=\"datos_test/ejemplos_transformados/propuesta_2/propuesta_2_neutral_angry_500epochs/0011_000031.wav\" title=\"\"></audio>"
   ]
  },
  {
   "cell_type": "markdown",
   "metadata": {},
   "source": []
  },
  {
   "cell_type": "markdown",
   "metadata": {},
   "source": [
    "### 0011_000032.wav\n",
    "<audio controls src=\"datos_test/ejemplos_transformados/baseline/baseline_neutral_angry_500epochs/0011_000032.wav\" title=\"Title\"></audio>\n",
    "<audio controls src=\"datos_test/ejemplos_transformados/propuesta_1/propuesta_1_neutral_angry_500epochs/0011_000032.wav\" title=\"Title\"></audio>\n",
    "<audio controls src=\"datos_test/ejemplos_transformados/propuesta_2/propuesta_2_neutral_angry_500epochs/0011_000032.wav\" title=\"\"></audio>"
   ]
  },
  {
   "cell_type": "markdown",
   "metadata": {},
   "source": [
    "### 0011_000033.wav\n",
    "<audio controls src=\"datos_test/ejemplos_transformados/baseline/baseline_neutral_angry_500epochs/0011_000033.wav\" title=\"Title\"></audio>\n",
    "<audio controls src=\"datos_test/ejemplos_transformados/propuesta_1/propuesta_1_neutral_angry_500epochs/0011_000033.wav\" title=\"Title\"></audio>\n",
    "<audio controls src=\"datos_test/ejemplos_transformados/propuesta_2/propuesta_2_neutral_angry_500epochs/0011_000033.wav\" title=\"\"></audio>"
   ]
  },
  {
   "cell_type": "markdown",
   "metadata": {},
   "source": [
    "### 0011_000034.wav\n",
    "<audio controls src=\"datos_test/ejemplos_transformados/baseline/baseline_neutral_angry_500epochs/0011_000034.wav\" title=\"Title\"></audio>\n",
    "<audio controls src=\"datos_test/ejemplos_transformados/propuesta_1/propuesta_1_neutral_angry_500epochs/0011_000034.wav\" title=\"Title\"></audio>\n",
    "<audio controls src=\"datos_test/ejemplos_transformados/propuesta_2/propuesta_2_neutral_angry_500epochs/0011_000034.wav\" title=\"\"></audio>"
   ]
  },
  {
   "cell_type": "markdown",
   "metadata": {},
   "source": [
    "### 0011_000035.wav\n",
    "<audio controls src=\"datos_test/ejemplos_transformados/baseline/baseline_neutral_angry_500epochs/0011_000035.wav\" title=\"Title\"></audio>\n",
    "<audio controls src=\"datos_test/ejemplos_transformados/propuesta_1/propuesta_1_neutral_angry_500epochs/0011_000035.wav\" title=\"Title\"></audio>\n",
    "<audio controls src=\"datos_test/ejemplos_transformados/propuesta_2/propuesta_2_neutral_angry_500epochs/0011_000035.wav\" title=\"\"></audio>"
   ]
  },
  {
   "cell_type": "markdown",
   "metadata": {},
   "source": [
    "### 0011_000038.wav\n",
    "<audio controls src=\"datos_test/ejemplos_transformados/baseline/baseline_neutral_angry_500epochs/0011_000038.wav\" title=\"Title\"></audio>\n",
    "<audio controls src=\"datos_test/ejemplos_transformados/propuesta_1/propuesta_1_neutral_angry_500epochs/0011_000038.wav\" title=\"Title\"></audio>\n",
    "<audio controls src=\"datos_test/ejemplos_transformados/propuesta_2/propuesta_2_neutral_angry_500epochs/0011_000038.wav\" title=\"\"></audio>"
   ]
  },
  {
   "cell_type": "markdown",
   "metadata": {},
   "source": [
    "### 0011_000039.wav\n",
    "<audio controls src=\"datos_test/ejemplos_transformados/baseline/baseline_neutral_angry_500epochs/0011_000039.wav\" title=\"Title\"></audio>\n",
    "<audio controls src=\"datos_test/ejemplos_transformados/propuesta_1/propuesta_1_neutral_angry_500epochs/0011_000039.wav\" title=\"Title\"></audio>\n",
    "<audio controls src=\"datos_test/ejemplos_transformados/propuesta_2/propuesta_2_neutral_angry_500epochs/0011_000039.wav\" title=\"\"></audio>"
   ]
  },
  {
   "cell_type": "markdown",
   "metadata": {},
   "source": [
    "### 0011_000040.wav\n",
    "<audio controls src=\"datos_test/ejemplos_transformados/baseline/baseline_neutral_angry_500epochs/0011_000040.wav\" title=\"Title\"></audio>\n",
    "<audio controls src=\"datos_test/ejemplos_transformados/propuesta_1/propuesta_1_neutral_angry_500epochs/0011_000040.wav\" title=\"Title\"></audio>\n",
    "<audio controls src=\"datos_test/ejemplos_transformados/propuesta_2/propuesta_2_neutral_angry_500epochs/0011_000040.wav\" title=\"\"></audio>"
   ]
  },
  {
   "cell_type": "markdown",
   "metadata": {},
   "source": [
    "### 0011_000043.wav\n",
    "<audio controls src=\"datos_test/ejemplos_transformados/baseline/baseline_neutral_angry_500epochs/0011_000043.wav\" title=\"Title\"></audio>\n",
    "<audio controls src=\"datos_test/ejemplos_transformados/propuesta_1/propuesta_1_neutral_angry_500epochs/0011_000043.wav\" title=\"Title\"></audio>\n",
    "<audio controls src=\"datos_test/ejemplos_transformados/propuesta_2/propuesta_2_neutral_angry_500epochs/0011_000043.wav\" title=\"\"></audio>"
   ]
  },
  {
   "cell_type": "markdown",
   "metadata": {},
   "source": [
    "### 0011_000044.wav\n",
    "<audio controls src=\"datos_test/ejemplos_transformados/baseline/baseline_neutral_angry_500epochs/0011_000044.wav\" title=\"Title\"></audio>\n",
    "<audio controls src=\"datos_test/ejemplos_transformados/propuesta_1/propuesta_1_neutral_angry_500epochs/0011_000044.wav\" title=\"Title\"></audio>\n",
    "<audio controls src=\"datos_test/ejemplos_transformados/propuesta_2/propuesta_2_neutral_angry_500epochs/0011_000044.wav\" title=\"\"></audio>"
   ]
  },
  {
   "cell_type": "markdown",
   "metadata": {},
   "source": [
    "### 0011_000045.wav\n",
    "<audio controls src=\"datos_test/ejemplos_transformados/baseline/baseline_neutral_angry_500epochs/0011_000045.wav\" title=\"Title\"></audio>\n",
    "<audio controls src=\"datos_test/ejemplos_transformados/propuesta_1/propuesta_1_neutral_angry_500epochs/0011_000045.wav\" title=\"Title\"></audio>\n",
    "<audio controls src=\"datos_test/ejemplos_transformados/propuesta_2/propuesta_2_neutral_angry_500epochs/0011_000045.wav\" title=\"\"></audio>"
   ]
  },
  {
   "cell_type": "markdown",
   "metadata": {},
   "source": [
    "### 0011_000046.wav\n",
    "<audio controls src=\"datos_test/ejemplos_transformados/baseline/baseline_neutral_angry_500epochs/0011_000046.wav\" title=\"Title\"></audio>\n",
    "<audio controls src=\"datos_test/ejemplos_transformados/propuesta_1/propuesta_1_neutral_angry_500epochs/0011_000046.wav\" title=\"Title\"></audio>\n",
    "<audio controls src=\"datos_test/ejemplos_transformados/propuesta_2/propuesta_2_neutral_angry_500epochs/0011_000046.wav\" title=\"\"></audio>"
   ]
  },
  {
   "cell_type": "markdown",
   "metadata": {},
   "source": [
    "### 0011_000048.wav\n",
    "<audio controls src=\"datos_test/ejemplos_transformados/baseline/baseline_neutral_angry_500epochs/0011_000048.wav\" title=\"Title\"></audio>\n",
    "<audio controls src=\"datos_test/ejemplos_transformados/propuesta_1/propuesta_1_neutral_angry_500epochs/0011_000048.wav\" title=\"Title\"></audio>\n",
    "<audio controls src=\"datos_test/ejemplos_transformados/propuesta_2/propuesta_2_neutral_angry_500epochs/0011_000048.wav\" title=\"\"></audio>"
   ]
  },
  {
   "cell_type": "markdown",
   "metadata": {},
   "source": [
    "### 0011_000050.wav\n",
    "<audio controls src=\"datos_test/ejemplos_transformados/baseline/baseline_neutral_angry_500epochs/0011_000050.wav\" title=\"Title\"></audio>\n",
    "<audio controls src=\"datos_test/ejemplos_transformados/propuesta_1/propuesta_1_neutral_angry_500epochs/0011_000050.wav\" title=\"Title\"></audio>\n",
    "<audio controls src=\"datos_test/ejemplos_transformados/propuesta_2/propuesta_2_neutral_angry_500epochs/0011_000050.wav\" title=\"\"></audio>"
   ]
  },
  {
   "cell_type": "markdown",
   "metadata": {},
   "source": []
  },
  {
   "cell_type": "markdown",
   "metadata": {},
   "source": [
    "## N - H"
   ]
  },
  {
   "cell_type": "markdown",
   "metadata": {},
   "source": [
    "### 0011_000021.wav"
   ]
  },
  {
   "cell_type": "markdown",
   "metadata": {},
   "source": [
    "<audio controls src=\"datos_test/ejemplos_transformados/baseline/baseline_neutral_happy_500epochs/0011_000021.wav\" title=\"Title\"></audio>\n",
    "<audio controls src=\"datos_test/ejemplos_transformados/propuesta_1/propuesta_1_neutral_happy_500epochs/0011_000021.wav\" title=\"Title\"></audio>\n",
    "<audio controls src=\"datos_test/ejemplos_transformados/propuesta_2/propuesta_2_neutral_happy_500epochs/0011_000021.wav\" title=\"\"></audio>"
   ]
  },
  {
   "cell_type": "markdown",
   "metadata": {},
   "source": [
    "### 0011_000022.wav"
   ]
  },
  {
   "cell_type": "markdown",
   "metadata": {},
   "source": [
    "<audio controls src=\"datos_test/ejemplos_transformados/baseline/baseline_neutral_happy_500epochs/0011_000022.wav\" title=\"Title\"></audio>\n",
    "<audio controls src=\"datos_test/ejemplos_transformados/propuesta_1/propuesta_1_neutral_happy_500epochs/0011_000022.wav\" title=\"Title\"></audio>\n",
    "<audio controls src=\"datos_test/ejemplos_transformados/propuesta_2/propuesta_2_neutral_happy_500epochs/0011_000022.wav\" title=\"\"></audio>"
   ]
  },
  {
   "cell_type": "markdown",
   "metadata": {},
   "source": [
    "### 0011_000023.wav"
   ]
  },
  {
   "cell_type": "markdown",
   "metadata": {},
   "source": [
    "<audio controls src=\"datos_test/ejemplos_transformados/baseline/baseline_neutral_happy_500epochs/0011_000023.wav\" title=\"Title\"></audio>\n",
    "<audio controls src=\"datos_test/ejemplos_transformados/propuesta_1/propuesta_1_neutral_happy_500epochs/0011_000023.wav\" title=\"Title\"></audio>\n",
    "<audio controls src=\"datos_test/ejemplos_transformados/propuesta_2/propuesta_2_neutral_happy_500epochs/0011_000023.wav\" title=\"\"></audio>"
   ]
  },
  {
   "cell_type": "markdown",
   "metadata": {},
   "source": [
    "### 0011_000025.wav"
   ]
  },
  {
   "cell_type": "markdown",
   "metadata": {},
   "source": [
    "<audio controls src=\"datos_test/ejemplos_transformados/baseline/baseline_neutral_happy_500epochs/0011_000025.wav\" title=\"Title\"></audio>\n",
    "<audio controls src=\"datos_test/ejemplos_transformados/propuesta_1/propuesta_1_neutral_happy_500epochs/0011_000025.wav\" title=\"Title\"></audio>\n",
    "<audio controls src=\"datos_test/ejemplos_transformados/propuesta_2/propuesta_2_neutral_happy_500epochs/0011_000025.wav\" title=\"\"></audio>"
   ]
  },
  {
   "cell_type": "markdown",
   "metadata": {},
   "source": [
    "### 0011_000028.wav"
   ]
  },
  {
   "cell_type": "markdown",
   "metadata": {},
   "source": [
    "<audio controls src=\"datos_test/ejemplos_transformados/baseline/baseline_neutral_happy_500epochs/0011_000028.wav\" title=\"Title\"></audio>\n",
    "<audio controls src=\"datos_test/ejemplos_transformados/propuesta_1/propuesta_1_neutral_happy_500epochs/0011_000028.wav\" title=\"Title\"></audio>\n",
    "<audio controls src=\"datos_test/ejemplos_transformados/propuesta_2/propuesta_2_neutral_happy_500epochs/0011_000028.wav\" title=\"\"></audio>"
   ]
  },
  {
   "cell_type": "markdown",
   "metadata": {},
   "source": [
    "### 0011_000029.wav"
   ]
  },
  {
   "cell_type": "markdown",
   "metadata": {},
   "source": [
    "<audio controls src=\"datos_test/ejemplos_transformados/baseline/baseline_neutral_happy_500epochs/0011_000029.wav\" title=\"Title\"></audio>\n",
    "<audio controls src=\"datos_test/ejemplos_transformados/propuesta_1/propuesta_1_neutral_happy_500epochs/0011_000029.wav\" title=\"Title\"></audio>\n",
    "<audio controls src=\"datos_test/ejemplos_transformados/propuesta_2/propuesta_2_neutral_happy_500epochs/0011_000029.wav\" title=\"\"></audio>"
   ]
  },
  {
   "cell_type": "markdown",
   "metadata": {},
   "source": [
    "### 0011_000031.wav\n",
    "<audio controls src=\"datos_test/ejemplos_transformados/baseline/baseline_neutral_happy_500epochs/0011_000031.wav\" title=\"Title\"></audio>\n",
    "<audio controls src=\"datos_test/ejemplos_transformados/propuesta_1/propuesta_1_neutral_happy_500epochs/0011_000031.wav\" title=\"Title\"></audio>\n",
    "<audio controls src=\"datos_test/ejemplos_transformados/propuesta_2/propuesta_2_neutral_happy_500epochs/0011_000031.wav\" title=\"\"></audio>"
   ]
  },
  {
   "cell_type": "markdown",
   "metadata": {},
   "source": []
  },
  {
   "cell_type": "markdown",
   "metadata": {},
   "source": [
    "### 0011_000032.wav\n",
    "<audio controls src=\"datos_test/ejemplos_transformados/baseline/baseline_neutral_happy_500epochs/0011_000032.wav\" title=\"Title\"></audio>\n",
    "<audio controls src=\"datos_test/ejemplos_transformados/propuesta_1/propuesta_1_neutral_happy_500epochs/0011_000032.wav\" title=\"Title\"></audio>\n",
    "<audio controls src=\"datos_test/ejemplos_transformados/propuesta_2/propuesta_2_neutral_happy_500epochs/0011_000032.wav\" title=\"\"></audio>"
   ]
  },
  {
   "cell_type": "markdown",
   "metadata": {},
   "source": [
    "### 0011_000033.wav\n",
    "<audio controls src=\"datos_test/ejemplos_transformados/baseline/baseline_neutral_happy_500epochs/0011_000033.wav\" title=\"Title\"></audio>\n",
    "<audio controls src=\"datos_test/ejemplos_transformados/propuesta_1/propuesta_1_neutral_happy_500epochs/0011_000033.wav\" title=\"Title\"></audio>\n",
    "<audio controls src=\"datos_test/ejemplos_transformados/propuesta_2/propuesta_2_neutral_happy_500epochs/0011_000033.wav\" title=\"\"></audio>"
   ]
  },
  {
   "cell_type": "markdown",
   "metadata": {},
   "source": [
    "### 0011_000034.wav\n",
    "<audio controls src=\"datos_test/ejemplos_transformados/baseline/baseline_neutral_happy_500epochs/0011_000034.wav\" title=\"Title\"></audio>\n",
    "<audio controls src=\"datos_test/ejemplos_transformados/propuesta_1/propuesta_1_neutral_happy_500epochs/0011_000034.wav\" title=\"Title\"></audio>\n",
    "<audio controls src=\"datos_test/ejemplos_transformados/propuesta_2/propuesta_2_neutral_happy_500epochs/0011_000034.wav\" title=\"\"></audio>"
   ]
  },
  {
   "cell_type": "markdown",
   "metadata": {},
   "source": [
    "### 0011_000035.wav\n",
    "<audio controls src=\"datos_test/ejemplos_transformados/baseline/baseline_neutral_happy_500epochs/0011_000035.wav\" title=\"Title\"></audio>\n",
    "<audio controls src=\"datos_test/ejemplos_transformados/propuesta_1/propuesta_1_neutral_happy_500epochs/0011_000035.wav\" title=\"Title\"></audio>\n",
    "<audio controls src=\"datos_test/ejemplos_transformados/propuesta_2/propuesta_2_neutral_happy_500epochs/0011_000035.wav\" title=\"\"></audio>"
   ]
  },
  {
   "cell_type": "markdown",
   "metadata": {},
   "source": [
    "### 0011_000038.wav\n",
    "<audio controls src=\"datos_test/ejemplos_transformados/baseline/baseline_neutral_happy_500epochs/0011_000038.wav\" title=\"Title\"></audio>\n",
    "<audio controls src=\"datos_test/ejemplos_transformados/propuesta_1/propuesta_1_neutral_happy_500epochs/0011_000038.wav\" title=\"Title\"></audio>\n",
    "<audio controls src=\"datos_test/ejemplos_transformados/propuesta_2/propuesta_2_neutral_happy_500epochs/0011_000038.wav\" title=\"\"></audio>"
   ]
  },
  {
   "cell_type": "markdown",
   "metadata": {},
   "source": [
    "### 0011_000039.wav\n",
    "<audio controls src=\"datos_test/ejemplos_transformados/baseline/baseline_neutral_happy_500epochs/0011_000039.wav\" title=\"Title\"></audio>\n",
    "<audio controls src=\"datos_test/ejemplos_transformados/propuesta_1/propuesta_1_neutral_happy_500epochs/0011_000039.wav\" title=\"Title\"></audio>\n",
    "<audio controls src=\"datos_test/ejemplos_transformados/propuesta_2/propuesta_2_neutral_happy_500epochs/0011_000039.wav\" title=\"\"></audio>"
   ]
  },
  {
   "cell_type": "markdown",
   "metadata": {},
   "source": [
    "### 0011_000040.wav\n",
    "<audio controls src=\"datos_test/ejemplos_transformados/baseline/baseline_neutral_happy_500epochs/0011_000040.wav\" title=\"Title\"></audio>\n",
    "<audio controls src=\"datos_test/ejemplos_transformados/propuesta_1/propuesta_1_neutral_happy_500epochs/0011_000040.wav\" title=\"Title\"></audio>\n",
    "<audio controls src=\"datos_test/ejemplos_transformados/propuesta_2/propuesta_2_neutral_happy_500epochs/0011_000040.wav\" title=\"\"></audio>"
   ]
  },
  {
   "cell_type": "markdown",
   "metadata": {},
   "source": [
    "### 0011_000043.wav\n",
    "<audio controls src=\"datos_test/ejemplos_transformados/baseline/baseline_neutral_happy_500epochs/0011_000043.wav\" title=\"Title\"></audio>\n",
    "<audio controls src=\"datos_test/ejemplos_transformados/propuesta_1/propuesta_1_neutral_happy_500epochs/0011_000043.wav\" title=\"Title\"></audio>\n",
    "<audio controls src=\"datos_test/ejemplos_transformados/propuesta_2/propuesta_2_neutral_happy_500epochs/0011_000043.wav\" title=\"\"></audio>"
   ]
  },
  {
   "cell_type": "markdown",
   "metadata": {},
   "source": [
    "### 0011_000044.wav\n",
    "<audio controls src=\"datos_test/ejemplos_transformados/baseline/baseline_neutral_happy_500epochs/0011_000044.wav\" title=\"Title\"></audio>\n",
    "<audio controls src=\"datos_test/ejemplos_transformados/propuesta_1/propuesta_1_neutral_happy_500epochs/0011_000044.wav\" title=\"Title\"></audio>\n",
    "<audio controls src=\"datos_test/ejemplos_transformados/propuesta_2/propuesta_2_neutral_happy_500epochs/0011_000044.wav\" title=\"\"></audio>"
   ]
  },
  {
   "cell_type": "markdown",
   "metadata": {},
   "source": [
    "### 0011_000045.wav\n",
    "<audio controls src=\"datos_test/ejemplos_transformados/baseline/baseline_neutral_happy_500epochs/0011_000045.wav\" title=\"Title\"></audio>\n",
    "<audio controls src=\"datos_test/ejemplos_transformados/propuesta_1/propuesta_1_neutral_happy_500epochs/0011_000045.wav\" title=\"Title\"></audio>\n",
    "<audio controls src=\"datos_test/ejemplos_transformados/propuesta_2/propuesta_2_neutral_happy_500epochs/0011_000045.wav\" title=\"\"></audio>"
   ]
  },
  {
   "cell_type": "markdown",
   "metadata": {},
   "source": [
    "### 0011_000046.wav\n",
    "<audio controls src=\"datos_test/ejemplos_transformados/baseline/baseline_neutral_happy_500epochs/0011_000046.wav\" title=\"Title\"></audio>\n",
    "<audio controls src=\"datos_test/ejemplos_transformados/propuesta_1/propuesta_1_neutral_happy_500epochs/0011_000046.wav\" title=\"Title\"></audio>\n",
    "<audio controls src=\"datos_test/ejemplos_transformados/propuesta_2/propuesta_2_neutral_happy_500epochs/0011_000046.wav\" title=\"\"></audio>"
   ]
  },
  {
   "cell_type": "markdown",
   "metadata": {},
   "source": [
    "### 0011_000048.wav\n",
    "<audio controls src=\"datos_test/ejemplos_transformados/baseline/baseline_neutral_happy_500epochs/0011_000048.wav\" title=\"Title\"></audio>\n",
    "<audio controls src=\"datos_test/ejemplos_transformados/propuesta_1/propuesta_1_neutral_happy_500epochs/0011_000048.wav\" title=\"Title\"></audio>\n",
    "<audio controls src=\"datos_test/ejemplos_transformados/propuesta_2/propuesta_2_neutral_happy_500epochs/0011_000048.wav\" title=\"\"></audio>"
   ]
  },
  {
   "cell_type": "markdown",
   "metadata": {},
   "source": [
    "### 0011_000050.wav\n",
    "<audio controls src=\"datos_test/ejemplos_transformados/baseline/baseline_neutral_happy_500epochs/0011_000050.wav\" title=\"Title\"></audio>\n",
    "<audio controls src=\"datos_test/ejemplos_transformados/propuesta_1/propuesta_1_neutral_happy_500epochs/0011_000050.wav\" title=\"Title\"></audio>\n",
    "<audio controls src=\"datos_test/ejemplos_transformados/propuesta_2/propuesta_2_neutral_happy_500epochs/0011_000050.wav\" title=\"\"></audio>"
   ]
  },
  {
   "cell_type": "markdown",
   "metadata": {},
   "source": [
    "## N - S\n",
    "### 0011_000021.wav\n",
    "<audio controls src=\"datos_test/ejemplos_transformados/baseline/baseline_neutral_sad_500epochs/0011_000021.wav\" title=\"Title\"></audio>\n",
    "<audio controls src=\"datos_test/ejemplos_transformados/propuesta_1/propuesta_1_neutral_sad_500epochs/0011_000021.wav\" title=\"Title\"></audio>\n",
    "<audio controls src=\"datos_test/ejemplos_transformados/propuesta_2/propuesta_2_neutral_sad_500epochs/0011_000021.wav\" title=\"\"></audio>\n",
    "### 0011_000022.wav\n",
    "<audio controls src=\"datos_test/ejemplos_transformados/baseline/baseline_neutral_sad_500epochs/0011_000022.wav\" title=\"Title\"></audio>\n",
    "<audio controls src=\"datos_test/ejemplos_transformados/propuesta_1/propuesta_1_neutral_sad_500epochs/0011_000022.wav\" title=\"Title\"></audio>\n",
    "<audio controls src=\"datos_test/ejemplos_transformados/propuesta_2/propuesta_2_neutral_sad_500epochs/0011_000022.wav\" title=\"\"></audio>\n",
    "### 0011_000023.wav\n",
    "<audio controls src=\"datos_test/ejemplos_transformados/baseline/baseline_neutral_sad_500epochs/0011_000023.wav\" title=\"Title\"></audio>\n",
    "<audio controls src=\"datos_test/ejemplos_transformados/propuesta_1/propuesta_1_neutral_sad_500epochs/0011_000023.wav\" title=\"Title\"></audio>\n",
    "<audio controls src=\"datos_test/ejemplos_transformados/propuesta_2/propuesta_2_neutral_sad_500epochs/0011_000023.wav\" title=\"\"></audio>\n",
    "### 0011_000025.wav\n",
    "<audio controls src=\"datos_test/ejemplos_transformados/baseline/baseline_neutral_sad_500epochs/0011_000025.wav\" title=\"Title\"></audio>\n",
    "<audio controls src=\"datos_test/ejemplos_transformados/propuesta_1/propuesta_1_neutral_sad_500epochs/0011_000025.wav\" title=\"Title\"></audio>\n",
    "<audio controls src=\"datos_test/ejemplos_transformados/propuesta_2/propuesta_2_neutral_sad_500epochs/0011_000025.wav\" title=\"\"></audio>\n",
    "### 0011_000028.wav\n",
    "<audio controls src=\"datos_test/ejemplos_transformados/baseline/baseline_neutral_sad_500epochs/0011_000028.wav\" title=\"Title\"></audio>\n",
    "<audio controls src=\"datos_test/ejemplos_transformados/propuesta_1/propuesta_1_neutral_sad_500epochs/0011_000028.wav\" title=\"Title\"></audio>\n",
    "<audio controls src=\"datos_test/ejemplos_transformados/propuesta_2/propuesta_2_neutral_sad_500epochs/0011_000028.wav\" title=\"\"></audio>\n",
    "### 0011_000029.wav\n",
    "<audio controls src=\"datos_test/ejemplos_transformados/baseline/baseline_neutral_sad_500epochs/0011_000029.wav\" title=\"Title\"></audio>\n",
    "<audio controls src=\"datos_test/ejemplos_transformados/propuesta_1/propuesta_1_neutral_sad_500epochs/0011_000029.wav\" title=\"Title\"></audio>\n",
    "<audio controls src=\"datos_test/ejemplos_transformados/propuesta_2/propuesta_2_neutral_sad_500epochs/0011_000029.wav\" title=\"\"></audio>\n",
    "### 0011_000031.wav\n",
    "<audio controls src=\"datos_test/ejemplos_transformados/baseline/baseline_neutral_sad_500epochs/0011_000031.wav\" title=\"Title\"></audio>\n",
    "<audio controls src=\"datos_test/ejemplos_transformados/propuesta_1/propuesta_1_neutral_sad_500epochs/0011_000031.wav\" title=\"Title\"></audio>\n",
    "<audio controls src=\"datos_test/ejemplos_transformados/propuesta_2/propuesta_2_neutral_sad_500epochs/0011_000031.wav\" title=\"\"></audio>\n",
    "\n",
    "### 0011_000032.wav\n",
    "<audio controls src=\"datos_test/ejemplos_transformados/baseline/baseline_neutral_sad_500epochs/0011_000032.wav\" title=\"Title\"></audio>\n",
    "<audio controls src=\"datos_test/ejemplos_transformados/propuesta_1/propuesta_1_neutral_sad_500epochs/0011_000032.wav\" title=\"Title\"></audio>\n",
    "<audio controls src=\"datos_test/ejemplos_transformados/propuesta_2/propuesta_2_neutral_sad_500epochs/0011_000032.wav\" title=\"\"></audio>\n",
    "### 0011_000033.wav\n",
    "<audio controls src=\"datos_test/ejemplos_transformados/baseline/baseline_neutral_sad_500epochs/0011_000033.wav\" title=\"Title\"></audio>\n",
    "<audio controls src=\"datos_test/ejemplos_transformados/propuesta_1/propuesta_1_neutral_sad_500epochs/0011_000033.wav\" title=\"Title\"></audio>\n",
    "<audio controls src=\"datos_test/ejemplos_transformados/propuesta_2/propuesta_2_neutral_sad_500epochs/0011_000033.wav\" title=\"\"></audio>\n",
    "### 0011_000034.wav\n",
    "<audio controls src=\"datos_test/ejemplos_transformados/baseline/baseline_neutral_sad_500epochs/0011_000034.wav\" title=\"Title\"></audio>\n",
    "<audio controls src=\"datos_test/ejemplos_transformados/propuesta_1/propuesta_1_neutral_sad_500epochs/0011_000034.wav\" title=\"Title\"></audio>\n",
    "<audio controls src=\"datos_test/ejemplos_transformados/propuesta_2/propuesta_2_neutral_sad_500epochs/0011_000034.wav\" title=\"\"></audio>\n",
    "### 0011_000035.wav\n",
    "<audio controls src=\"datos_test/ejemplos_transformados/baseline/baseline_neutral_sad_500epochs/0011_000035.wav\" title=\"Title\"></audio>\n",
    "<audio controls src=\"datos_test/ejemplos_transformados/propuesta_1/propuesta_1_neutral_sad_500epochs/0011_000035.wav\" title=\"Title\"></audio>\n",
    "<audio controls src=\"datos_test/ejemplos_transformados/propuesta_2/propuesta_2_neutral_sad_500epochs/0011_000035.wav\" title=\"\"></audio>\n",
    "### 0011_000038.wav\n",
    "<audio controls src=\"datos_test/ejemplos_transformados/baseline/baseline_neutral_sad_500epochs/0011_000038.wav\" title=\"Title\"></audio>\n",
    "<audio controls src=\"datos_test/ejemplos_transformados/propuesta_1/propuesta_1_neutral_sad_500epochs/0011_000038.wav\" title=\"Title\"></audio>\n",
    "<audio controls src=\"datos_test/ejemplos_transformados/propuesta_2/propuesta_2_neutral_sad_500epochs/0011_000038.wav\" title=\"\"></audio>\n",
    "### 0011_000039.wav\n",
    "<audio controls src=\"datos_test/ejemplos_transformados/baseline/baseline_neutral_sad_500epochs/0011_000039.wav\" title=\"Title\"></audio>\n",
    "<audio controls src=\"datos_test/ejemplos_transformados/propuesta_1/propuesta_1_neutral_sad_500epochs/0011_000039.wav\" title=\"Title\"></audio>\n",
    "<audio controls src=\"datos_test/ejemplos_transformados/propuesta_2/propuesta_2_neutral_sad_500epochs/0011_000039.wav\" title=\"\"></audio>\n",
    "### 0011_000040.wav\n",
    "<audio controls src=\"datos_test/ejemplos_transformados/baseline/baseline_neutral_sad_500epochs/0011_000040.wav\" title=\"Title\"></audio>\n",
    "<audio controls src=\"datos_test/ejemplos_transformados/propuesta_1/propuesta_1_neutral_sad_500epochs/0011_000040.wav\" title=\"Title\"></audio>\n",
    "<audio controls src=\"datos_test/ejemplos_transformados/propuesta_2/propuesta_2_neutral_sad_500epochs/0011_000040.wav\" title=\"\"></audio>\n",
    "### 0011_000043.wav\n",
    "<audio controls src=\"datos_test/ejemplos_transformados/baseline/baseline_neutral_sad_500epochs/0011_000043.wav\" title=\"Title\"></audio>\n",
    "<audio controls src=\"datos_test/ejemplos_transformados/propuesta_1/propuesta_1_neutral_sad_500epochs/0011_000043.wav\" title=\"Title\"></audio>\n",
    "<audio controls src=\"datos_test/ejemplos_transformados/propuesta_2/propuesta_2_neutral_sad_500epochs/0011_000043.wav\" title=\"\"></audio>\n",
    "### 0011_000044.wav\n",
    "<audio controls src=\"datos_test/ejemplos_transformados/baseline/baseline_neutral_sad_500epochs/0011_000044.wav\" title=\"Title\"></audio>\n",
    "<audio controls src=\"datos_test/ejemplos_transformados/propuesta_1/propuesta_1_neutral_sad_500epochs/0011_000044.wav\" title=\"Title\"></audio>\n",
    "<audio controls src=\"datos_test/ejemplos_transformados/propuesta_2/propuesta_2_neutral_sad_500epochs/0011_000044.wav\" title=\"\"></audio>\n",
    "### 0011_000045.wav\n",
    "<audio controls src=\"datos_test/ejemplos_transformados/baseline/baseline_neutral_sad_500epochs/0011_000045.wav\" title=\"Title\"></audio>\n",
    "<audio controls src=\"datos_test/ejemplos_transformados/propuesta_1/propuesta_1_neutral_sad_500epochs/0011_000045.wav\" title=\"Title\"></audio>\n",
    "<audio controls src=\"datos_test/ejemplos_transformados/propuesta_2/propuesta_2_neutral_sad_500epochs/0011_000045.wav\" title=\"\"></audio>\n",
    "### 0011_000046.wav\n",
    "<audio controls src=\"datos_test/ejemplos_transformados/baseline/baseline_neutral_sad_500epochs/0011_000046.wav\" title=\"Title\"></audio>\n",
    "<audio controls src=\"datos_test/ejemplos_transformados/propuesta_1/propuesta_1_neutral_sad_500epochs/0011_000046.wav\" title=\"Title\"></audio>\n",
    "<audio controls src=\"datos_test/ejemplos_transformados/propuesta_2/propuesta_2_neutral_sad_500epochs/0011_000046.wav\" title=\"\"></audio>\n",
    "### 0011_000048.wav\n",
    "<audio controls src=\"datos_test/ejemplos_transformados/baseline/baseline_neutral_sad_500epochs/0011_000048.wav\" title=\"Title\"></audio>\n",
    "<audio controls src=\"datos_test/ejemplos_transformados/propuesta_1/propuesta_1_neutral_sad_500epochs/0011_000048.wav\" title=\"Title\"></audio>\n",
    "<audio controls src=\"datos_test/ejemplos_transformados/propuesta_2/propuesta_2_neutral_sad_500epochs/0011_000048.wav\" title=\"\"></audio>\n",
    "### 0011_000050.wav\n",
    "<audio controls src=\"datos_test/ejemplos_transformados/baseline/baseline_neutral_sad_500epochs/0011_000050.wav\" title=\"Title\"></audio>\n",
    "<audio controls src=\"datos_test/ejemplos_transformados/propuesta_1/propuesta_1_neutral_sad_500epochs/0011_000050.wav\" title=\"Title\"></audio>\n",
    "<audio controls src=\"datos_test/ejemplos_transformados/propuesta_2/propuesta_2_neutral_sad_500epochs/0011_000050.wav\" title=\"\"></audio>"
   ]
  },
  {
   "cell_type": "markdown",
   "metadata": {},
   "source": []
  }
 ],
 "metadata": {
  "language_info": {
   "name": "python"
  }
 },
 "nbformat": 4,
 "nbformat_minor": 2
}
